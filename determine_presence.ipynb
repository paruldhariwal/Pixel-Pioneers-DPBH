{
 "cells": [
  {
   "cell_type": "code",
   "execution_count": 2,
   "id": "ca327bf6",
   "metadata": {},
   "outputs": [
    {
     "name": "stderr",
     "output_type": "stream",
     "text": [
      "/opt/homebrew/lib/python3.11/site-packages/tqdm/auto.py:21: TqdmWarning: IProgress not found. Please update jupyter and ipywidgets. See https://ipywidgets.readthedocs.io/en/stable/user_install.html\n",
      "  from .autonotebook import tqdm as notebook_tqdm\n"
     ]
    }
   ],
   "source": [
    "import pandas as pd\n",
    "from sklearn.model_selection import train_test_split\n",
    "from sklearn.metrics import accuracy_score, precision_score, recall_score, f1_score\n",
    "from transformers import BertTokenizer, BertForSequenceClassification, AdamW\n",
    "from torch.utils.data import DataLoader, TensorDataset\n",
    "from tqdm import tqdm\n",
    "from sklearn.preprocessing import LabelEncoder\n",
    "import torch"
   ]
  },
  {
   "cell_type": "code",
   "execution_count": 3,
   "id": "a0a1ede5",
   "metadata": {},
   "outputs": [],
   "source": [
    "selected_classification = 'classification'\n",
    "\n",
    "df1 = pd.read_csv('normie.csv')\n",
    "df2 = pd.read_csv('dark_patterns.csv')\n",
    "\n",
    "df1 = df1[pd.notnull(df1['Pattern String'])]\n",
    "df1 = df1[df1[selected_classification] == 0]\n",
    "df1['classification'] = 'Not Dark'\n",
    "df1.drop_duplicates(subset='Pattern String', inplace=True)\n",
    "\n",
    "df2 = df2[pd.notnull(df2['Pattern String'])]\n",
    "df2['classification'] = 'Dark'\n",
    "col = [\"Pattern String\", \"classification\"]\n",
    "df2 = df2[col]\n",
    "\n",
    "df = pd.concat([df1, df2])"
   ]
  },
  {
   "cell_type": "code",
   "execution_count": 4,
   "id": "aea9754f",
   "metadata": {},
   "outputs": [],
   "source": [
    "\n",
    "label_encoder = LabelEncoder()\n",
    "df['encoded_labels'] = label_encoder.fit_transform(df[selected_classification])\n",
    "\n",
    "# Split the data into training and testing sets\n",
    "train_df, test_df = train_test_split(df, test_size=0.2, random_state=42)"
   ]
  },
  {
   "cell_type": "code",
   "execution_count": 5,
   "id": "487c5533",
   "metadata": {},
   "outputs": [
    {
     "name": "stderr",
     "output_type": "stream",
     "text": [
      "Some weights of BertForSequenceClassification were not initialized from the model checkpoint at bert-base-uncased and are newly initialized: ['classifier.bias', 'classifier.weight']\n",
      "You should probably TRAIN this model on a down-stream task to be able to use it for predictions and inference.\n"
     ]
    }
   ],
   "source": [
    "# Load BERT tokenizer and model\n",
    "tokenizer = BertTokenizer.from_pretrained('bert-base-uncased')\n",
    "num_labels = len(df['encoded_labels'].unique())  # Number of unique classes\n",
    "model2 = BertForSequenceClassification.from_pretrained('bert-base-uncased', num_labels=num_labels)\n",
    "\n",
    "# Tokenize and encode the training data\n",
    "train_encodings = tokenizer(list(train_df['Pattern String']), truncation=True, padding=True, return_tensors='pt')\n",
    "train_labels = torch.tensor(train_df['encoded_labels'].tolist())\n",
    "\n",
    "# Tokenize and encode the testing data\n",
    "test_encodings = tokenizer(list(test_df['Pattern String']), truncation=True, padding=True, return_tensors='pt')\n",
    "test_labels = torch.tensor(test_df['encoded_labels'].tolist())\n"
   ]
  },
  {
   "cell_type": "code",
   "execution_count": 6,
   "id": "77e22ab4",
   "metadata": {},
   "outputs": [
    {
     "name": "stderr",
     "output_type": "stream",
     "text": [
      "/opt/homebrew/lib/python3.11/site-packages/transformers/optimization.py:429: FutureWarning: This implementation of AdamW is deprecated and will be removed in a future version. Use the PyTorch implementation torch.optim.AdamW instead, or set `no_deprecation_warning=True` to disable this warning\n",
      "  warnings.warn(\n"
     ]
    }
   ],
   "source": [
    "# Create DataLoaders for training and testing\n",
    "train_dataset = TensorDataset(train_encodings['input_ids'], train_encodings['attention_mask'], train_labels)\n",
    "test_dataset = TensorDataset(test_encodings['input_ids'], test_encodings['attention_mask'], test_labels)\n",
    "\n",
    "train_dataloader = DataLoader(train_dataset, batch_size=8, shuffle=True)\n",
    "test_dataloader = DataLoader(test_dataset, batch_size=8, shuffle=False)\n",
    "\n",
    "optimizer = AdamW(model2.parameters(), lr=5e-5)\n",
    "criterion = torch.nn.CrossEntropyLoss()\n"
   ]
  },
  {
   "cell_type": "code",
   "execution_count": 7,
   "id": "05e3a59f",
   "metadata": {},
   "outputs": [
    {
     "name": "stderr",
     "output_type": "stream",
     "text": [
      "Epoch 1: 100%|███████████████████████████| 298/298 [14:26<00:00,  2.91s/batches]\n",
      "Epoch 2: 100%|███████████████████████████| 298/298 [14:21<00:00,  2.89s/batches]\n",
      "Epoch 3: 100%|███████████████████████████| 298/298 [18:42<00:00,  3.77s/batches]\n",
      "Epoch 4: 100%|███████████████████████████| 298/298 [14:15<00:00,  2.87s/batches]\n"
     ]
    }
   ],
   "source": [
    "# Train the model\n",
    "model2.train()\n",
    "for epoch in range(4):  # Adjust the number of epochs as needed\n",
    "    for batch in tqdm(train_dataloader, desc=f'Epoch {epoch + 1}', unit='batches'):\n",
    "        optimizer.zero_grad()\n",
    "        outputs = model2(input_ids=batch[0], attention_mask=batch[1], labels=batch[2])\n",
    "        loss = outputs.loss\n",
    "        loss.backward()\n",
    "        optimizer.step()"
   ]
  },
  {
   "cell_type": "code",
   "execution_count": 9,
   "id": "df00ff0b",
   "metadata": {},
   "outputs": [
    {
     "name": "stderr",
     "output_type": "stream",
     "text": [
      "Evaluating: 100%|██████████████████████████| 75/75 [00:33<00:00,  2.21batches/s]"
     ]
    },
    {
     "name": "stdout",
     "output_type": "stream",
     "text": [
      "Test Accuracy: 0.9446308724832215\n",
      "Test Precision: 0.9492419937396476\n",
      "Test Recall: 0.9446308724832215\n",
      "Test F1 Score: 0.9446987208807014\n"
     ]
    },
    {
     "name": "stderr",
     "output_type": "stream",
     "text": [
      "\n"
     ]
    }
   ],
   "source": [
    "# Evaluate the model on the test set\n",
    "model2.eval()\n",
    "test_true_all = []\n",
    "test_pred_all = []\n",
    "\n",
    "with torch.no_grad():\n",
    "    for test_batch in tqdm(test_dataloader, desc='Evaluating', unit='batches'):\n",
    "        outputs = model2(input_ids=test_batch[0], attention_mask=test_batch[1])\n",
    "        test_true_all.extend(test_batch[2].tolist())\n",
    "        test_pred_all.extend(torch.argmax(outputs.logits, dim=1).tolist())\n",
    "\n",
    "# Decode labels back to original values\n",
    "decoded_test_true = label_encoder.inverse_transform(test_true_all)\n",
    "decoded_test_pred = label_encoder.inverse_transform(test_pred_all)\n",
    "\n",
    "# Evaluate the model\n",
    "test_accuracy = accuracy_score(decoded_test_true, decoded_test_pred)\n",
    "test_precision = precision_score(decoded_test_true, decoded_test_pred, average='weighted')\n",
    "test_recall = recall_score(decoded_test_true, decoded_test_pred, average='weighted')\n",
    "test_f1 = f1_score(decoded_test_true, decoded_test_pred, average='weighted')\n",
    "\n",
    "print(f\"Test Accuracy: {test_accuracy}\")\n",
    "print(f\"Test Precision: {test_precision}\")\n",
    "print(f\"Test Recall: {test_recall}\")\n",
    "print(f\"Test F1 Score: {test_f1}\")"
   ]
  },
  {
   "cell_type": "code",
   "execution_count": 11,
   "id": "e9050060",
   "metadata": {},
   "outputs": [
    {
     "data": {
      "text/plain": [
       "['determine_presence_label_encoder.joblib']"
      ]
     },
     "execution_count": 11,
     "metadata": {},
     "output_type": "execute_result"
    }
   ],
   "source": [
    "import joblib\n",
    "model_state_dict = model2.state_dict()\n",
    "joblib.dump(model_state_dict, 'determine_presence_model.joblib')\n",
    "#save the label encoder as well\n",
    "joblib.dump(label_encoder, 'determine_presence_label_encoder.joblib')\n"
   ]
  },
  {
   "cell_type": "code",
   "execution_count": null,
   "id": "cb4b4349",
   "metadata": {},
   "outputs": [],
   "source": []
  },
  {
   "cell_type": "code",
   "execution_count": null,
   "id": "24ec2538",
   "metadata": {},
   "outputs": [],
   "source": []
  }
 ],
 "metadata": {
  "kernelspec": {
   "display_name": "mypython",
   "language": "python",
   "name": "mypython"
  },
  "language_info": {
   "codemirror_mode": {
    "name": "ipython",
    "version": 3
   },
   "file_extension": ".py",
   "mimetype": "text/x-python",
   "name": "python",
   "nbconvert_exporter": "python",
   "pygments_lexer": "ipython3",
   "version": "3.11.5"
  }
 },
 "nbformat": 4,
 "nbformat_minor": 5
}
